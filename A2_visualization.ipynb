{
 "cells": [
  {
   "cell_type": "code",
   "execution_count": 1,
   "id": "d2954f3d",
   "metadata": {},
   "outputs": [],
   "source": [
    "import pandas as pd\n",
    "import numpy as np \n",
    "import matplotlib.pyplot as plt\n",
    "import seaborn as sns"
   ]
  },
  {
   "cell_type": "code",
   "execution_count": 2,
   "id": "075ddc7a",
   "metadata": {},
   "outputs": [],
   "source": [
    "df = pd.read_csv('twitter_user_data.csv', encoding_errors = 'ignore')"
   ]
  },
  {
   "cell_type": "code",
   "execution_count": 3,
   "id": "fc6bd0b4",
   "metadata": {},
   "outputs": [
    {
     "data": {
      "text/html": [
       "<div>\n",
       "<style scoped>\n",
       "    .dataframe tbody tr th:only-of-type {\n",
       "        vertical-align: middle;\n",
       "    }\n",
       "\n",
       "    .dataframe tbody tr th {\n",
       "        vertical-align: top;\n",
       "    }\n",
       "\n",
       "    .dataframe thead th {\n",
       "        text-align: right;\n",
       "    }\n",
       "</style>\n",
       "<table border=\"1\" class=\"dataframe\">\n",
       "  <thead>\n",
       "    <tr style=\"text-align: right;\">\n",
       "      <th></th>\n",
       "      <th>_unit_id</th>\n",
       "      <th>_golden</th>\n",
       "      <th>_unit_state</th>\n",
       "      <th>_trusted_judgments</th>\n",
       "      <th>_last_judgment_at</th>\n",
       "      <th>gender</th>\n",
       "      <th>gender:confidence</th>\n",
       "      <th>profile_yn</th>\n",
       "      <th>profile_yn:confidence</th>\n",
       "      <th>created</th>\n",
       "      <th>...</th>\n",
       "      <th>profileimage</th>\n",
       "      <th>retweet_count</th>\n",
       "      <th>sidebar_color</th>\n",
       "      <th>text</th>\n",
       "      <th>tweet_coord</th>\n",
       "      <th>tweet_count</th>\n",
       "      <th>tweet_created</th>\n",
       "      <th>tweet_id</th>\n",
       "      <th>tweet_location</th>\n",
       "      <th>user_timezone</th>\n",
       "    </tr>\n",
       "  </thead>\n",
       "  <tbody>\n",
       "    <tr>\n",
       "      <th>20045</th>\n",
       "      <td>815757572</td>\n",
       "      <td>True</td>\n",
       "      <td>golden</td>\n",
       "      <td>259</td>\n",
       "      <td>NaN</td>\n",
       "      <td>female</td>\n",
       "      <td>1.0000</td>\n",
       "      <td>yes</td>\n",
       "      <td>1.0</td>\n",
       "      <td>8/5/2015 21:16</td>\n",
       "      <td>...</td>\n",
       "      <td>https://pbs.twimg.com/profile_images/656793310...</td>\n",
       "      <td>0</td>\n",
       "      <td>C0DEED</td>\n",
       "      <td>@lookupondeath ...Fine, and I'll drink tea too...</td>\n",
       "      <td>NaN</td>\n",
       "      <td>783</td>\n",
       "      <td>10/26/2015 13:20</td>\n",
       "      <td>6.590000e+17</td>\n",
       "      <td>Verona</td>\n",
       "      <td>NaN</td>\n",
       "    </tr>\n",
       "    <tr>\n",
       "      <th>20046</th>\n",
       "      <td>815757681</td>\n",
       "      <td>True</td>\n",
       "      <td>golden</td>\n",
       "      <td>248</td>\n",
       "      <td>NaN</td>\n",
       "      <td>male</td>\n",
       "      <td>1.0000</td>\n",
       "      <td>yes</td>\n",
       "      <td>1.0</td>\n",
       "      <td>8/15/2012 21:17</td>\n",
       "      <td>...</td>\n",
       "      <td>https://pbs.twimg.com/profile_images/639815429...</td>\n",
       "      <td>0</td>\n",
       "      <td>0</td>\n",
       "      <td>Greg Hardy you a good player and all but don't...</td>\n",
       "      <td>NaN</td>\n",
       "      <td>13523</td>\n",
       "      <td>10/26/2015 12:40</td>\n",
       "      <td>6.590000e+17</td>\n",
       "      <td>Kansas City, MO</td>\n",
       "      <td>NaN</td>\n",
       "    </tr>\n",
       "    <tr>\n",
       "      <th>20047</th>\n",
       "      <td>815757830</td>\n",
       "      <td>True</td>\n",
       "      <td>golden</td>\n",
       "      <td>264</td>\n",
       "      <td>NaN</td>\n",
       "      <td>male</td>\n",
       "      <td>1.0000</td>\n",
       "      <td>yes</td>\n",
       "      <td>1.0</td>\n",
       "      <td>9/3/2012 1:17</td>\n",
       "      <td>...</td>\n",
       "      <td>https://pbs.twimg.com/profile_images/655473271...</td>\n",
       "      <td>0</td>\n",
       "      <td>C0DEED</td>\n",
       "      <td>You can miss people and still never want to se...</td>\n",
       "      <td>NaN</td>\n",
       "      <td>26419</td>\n",
       "      <td>10/26/2015 13:20</td>\n",
       "      <td>6.590000e+17</td>\n",
       "      <td>Lagos Nigeria</td>\n",
       "      <td>NaN</td>\n",
       "    </tr>\n",
       "    <tr>\n",
       "      <th>20048</th>\n",
       "      <td>815757921</td>\n",
       "      <td>True</td>\n",
       "      <td>golden</td>\n",
       "      <td>250</td>\n",
       "      <td>NaN</td>\n",
       "      <td>female</td>\n",
       "      <td>0.8489</td>\n",
       "      <td>yes</td>\n",
       "      <td>1.0</td>\n",
       "      <td>11/6/2012 23:46</td>\n",
       "      <td>...</td>\n",
       "      <td>https://pbs.twimg.com/profile_images/657716093...</td>\n",
       "      <td>0</td>\n",
       "      <td>0</td>\n",
       "      <td>@bitemyapp i had noticed your tendency to pee ...</td>\n",
       "      <td>NaN</td>\n",
       "      <td>56073</td>\n",
       "      <td>10/26/2015 12:40</td>\n",
       "      <td>6.590000e+17</td>\n",
       "      <td>Texas Hill Country</td>\n",
       "      <td>NaN</td>\n",
       "    </tr>\n",
       "    <tr>\n",
       "      <th>20049</th>\n",
       "      <td>815757985</td>\n",
       "      <td>True</td>\n",
       "      <td>golden</td>\n",
       "      <td>249</td>\n",
       "      <td>NaN</td>\n",
       "      <td>female</td>\n",
       "      <td>1.0000</td>\n",
       "      <td>yes</td>\n",
       "      <td>1.0</td>\n",
       "      <td>4/14/2014 17:22</td>\n",
       "      <td>...</td>\n",
       "      <td>https://pbs.twimg.com/profile_images/655134724...</td>\n",
       "      <td>0</td>\n",
       "      <td>C0DEED</td>\n",
       "      <td>I think for my APUSH creative project I'm goin...</td>\n",
       "      <td>NaN</td>\n",
       "      <td>2922</td>\n",
       "      <td>10/26/2015 13:19</td>\n",
       "      <td>6.590000e+17</td>\n",
       "      <td>NaN</td>\n",
       "      <td>NaN</td>\n",
       "    </tr>\n",
       "  </tbody>\n",
       "</table>\n",
       "<p>5 rows × 26 columns</p>\n",
       "</div>"
      ],
      "text/plain": [
       "        _unit_id  _golden _unit_state  _trusted_judgments _last_judgment_at  \\\n",
       "20045  815757572     True      golden                 259               NaN   \n",
       "20046  815757681     True      golden                 248               NaN   \n",
       "20047  815757830     True      golden                 264               NaN   \n",
       "20048  815757921     True      golden                 250               NaN   \n",
       "20049  815757985     True      golden                 249               NaN   \n",
       "\n",
       "       gender  gender:confidence profile_yn  profile_yn:confidence  \\\n",
       "20045  female             1.0000        yes                    1.0   \n",
       "20046    male             1.0000        yes                    1.0   \n",
       "20047    male             1.0000        yes                    1.0   \n",
       "20048  female             0.8489        yes                    1.0   \n",
       "20049  female             1.0000        yes                    1.0   \n",
       "\n",
       "               created  ...  \\\n",
       "20045   8/5/2015 21:16  ...   \n",
       "20046  8/15/2012 21:17  ...   \n",
       "20047    9/3/2012 1:17  ...   \n",
       "20048  11/6/2012 23:46  ...   \n",
       "20049  4/14/2014 17:22  ...   \n",
       "\n",
       "                                            profileimage  retweet_count  \\\n",
       "20045  https://pbs.twimg.com/profile_images/656793310...              0   \n",
       "20046  https://pbs.twimg.com/profile_images/639815429...              0   \n",
       "20047  https://pbs.twimg.com/profile_images/655473271...              0   \n",
       "20048  https://pbs.twimg.com/profile_images/657716093...              0   \n",
       "20049  https://pbs.twimg.com/profile_images/655134724...              0   \n",
       "\n",
       "      sidebar_color                                               text  \\\n",
       "20045        C0DEED  @lookupondeath ...Fine, and I'll drink tea too...   \n",
       "20046             0  Greg Hardy you a good player and all but don't...   \n",
       "20047        C0DEED  You can miss people and still never want to se...   \n",
       "20048             0  @bitemyapp i had noticed your tendency to pee ...   \n",
       "20049        C0DEED  I think for my APUSH creative project I'm goin...   \n",
       "\n",
       "      tweet_coord tweet_count     tweet_created      tweet_id  \\\n",
       "20045         NaN         783  10/26/2015 13:20  6.590000e+17   \n",
       "20046         NaN       13523  10/26/2015 12:40  6.590000e+17   \n",
       "20047         NaN       26419  10/26/2015 13:20  6.590000e+17   \n",
       "20048         NaN       56073  10/26/2015 12:40  6.590000e+17   \n",
       "20049         NaN        2922  10/26/2015 13:19  6.590000e+17   \n",
       "\n",
       "           tweet_location user_timezone  \n",
       "20045             Verona            NaN  \n",
       "20046     Kansas City, MO           NaN  \n",
       "20047      Lagos Nigeria            NaN  \n",
       "20048  Texas Hill Country           NaN  \n",
       "20049                 NaN           NaN  \n",
       "\n",
       "[5 rows x 26 columns]"
      ]
     },
     "execution_count": 3,
     "metadata": {},
     "output_type": "execute_result"
    }
   ],
   "source": [
    "df.tail()"
   ]
  },
  {
   "cell_type": "code",
   "execution_count": 4,
   "id": "a9d500f4",
   "metadata": {},
   "outputs": [
    {
     "data": {
      "text/html": [
       "<div>\n",
       "<style scoped>\n",
       "    .dataframe tbody tr th:only-of-type {\n",
       "        vertical-align: middle;\n",
       "    }\n",
       "\n",
       "    .dataframe tbody tr th {\n",
       "        vertical-align: top;\n",
       "    }\n",
       "\n",
       "    .dataframe thead th {\n",
       "        text-align: right;\n",
       "    }\n",
       "</style>\n",
       "<table border=\"1\" class=\"dataframe\">\n",
       "  <thead>\n",
       "    <tr style=\"text-align: right;\">\n",
       "      <th></th>\n",
       "      <th>_unit_id</th>\n",
       "      <th>_golden</th>\n",
       "      <th>_unit_state</th>\n",
       "      <th>_trusted_judgments</th>\n",
       "      <th>_last_judgment_at</th>\n",
       "      <th>gender</th>\n",
       "      <th>gender:confidence</th>\n",
       "      <th>profile_yn</th>\n",
       "      <th>profile_yn:confidence</th>\n",
       "      <th>created</th>\n",
       "      <th>...</th>\n",
       "      <th>profileimage</th>\n",
       "      <th>retweet_count</th>\n",
       "      <th>sidebar_color</th>\n",
       "      <th>text</th>\n",
       "      <th>tweet_coord</th>\n",
       "      <th>tweet_count</th>\n",
       "      <th>tweet_created</th>\n",
       "      <th>tweet_id</th>\n",
       "      <th>tweet_location</th>\n",
       "      <th>user_timezone</th>\n",
       "    </tr>\n",
       "  </thead>\n",
       "  <tbody>\n",
       "    <tr>\n",
       "      <th>0</th>\n",
       "      <td>815719226</td>\n",
       "      <td>False</td>\n",
       "      <td>finalized</td>\n",
       "      <td>3</td>\n",
       "      <td>10/26/2015 23:24</td>\n",
       "      <td>male</td>\n",
       "      <td>1.0000</td>\n",
       "      <td>yes</td>\n",
       "      <td>1.0</td>\n",
       "      <td>12/5/2013 1:48</td>\n",
       "      <td>...</td>\n",
       "      <td>https://pbs.twimg.com/profile_images/414342229...</td>\n",
       "      <td>0</td>\n",
       "      <td>FFFFFF</td>\n",
       "      <td>Robbie E Responds To Critics After Win Against...</td>\n",
       "      <td>NaN</td>\n",
       "      <td>110964</td>\n",
       "      <td>10/26/2015 12:40</td>\n",
       "      <td>6.590000e+17</td>\n",
       "      <td>main; @Kan1shk3</td>\n",
       "      <td>Chennai</td>\n",
       "    </tr>\n",
       "    <tr>\n",
       "      <th>1</th>\n",
       "      <td>815719227</td>\n",
       "      <td>False</td>\n",
       "      <td>finalized</td>\n",
       "      <td>3</td>\n",
       "      <td>10/26/2015 23:30</td>\n",
       "      <td>male</td>\n",
       "      <td>1.0000</td>\n",
       "      <td>yes</td>\n",
       "      <td>1.0</td>\n",
       "      <td>10/1/2012 13:51</td>\n",
       "      <td>...</td>\n",
       "      <td>https://pbs.twimg.com/profile_images/539604221...</td>\n",
       "      <td>0</td>\n",
       "      <td>C0DEED</td>\n",
       "      <td>It felt like they were my friends and I was li...</td>\n",
       "      <td>NaN</td>\n",
       "      <td>7471</td>\n",
       "      <td>10/26/2015 12:40</td>\n",
       "      <td>6.590000e+17</td>\n",
       "      <td>NaN</td>\n",
       "      <td>Eastern Time (US &amp; Canada)</td>\n",
       "    </tr>\n",
       "    <tr>\n",
       "      <th>2</th>\n",
       "      <td>815719228</td>\n",
       "      <td>False</td>\n",
       "      <td>finalized</td>\n",
       "      <td>3</td>\n",
       "      <td>10/26/2015 23:33</td>\n",
       "      <td>male</td>\n",
       "      <td>0.6625</td>\n",
       "      <td>yes</td>\n",
       "      <td>1.0</td>\n",
       "      <td>11/28/2014 11:30</td>\n",
       "      <td>...</td>\n",
       "      <td>https://pbs.twimg.com/profile_images/657330418...</td>\n",
       "      <td>1</td>\n",
       "      <td>C0DEED</td>\n",
       "      <td>i absolutely adore when louis starts the songs...</td>\n",
       "      <td>NaN</td>\n",
       "      <td>5617</td>\n",
       "      <td>10/26/2015 12:40</td>\n",
       "      <td>6.590000e+17</td>\n",
       "      <td>clcncl</td>\n",
       "      <td>Belgrade</td>\n",
       "    </tr>\n",
       "    <tr>\n",
       "      <th>3</th>\n",
       "      <td>815719229</td>\n",
       "      <td>False</td>\n",
       "      <td>finalized</td>\n",
       "      <td>3</td>\n",
       "      <td>10/26/2015 23:10</td>\n",
       "      <td>male</td>\n",
       "      <td>1.0000</td>\n",
       "      <td>yes</td>\n",
       "      <td>1.0</td>\n",
       "      <td>6/11/2009 22:39</td>\n",
       "      <td>...</td>\n",
       "      <td>https://pbs.twimg.com/profile_images/259703936...</td>\n",
       "      <td>0</td>\n",
       "      <td>C0DEED</td>\n",
       "      <td>Hi @JordanSpieth - Looking at the url - do you...</td>\n",
       "      <td>NaN</td>\n",
       "      <td>1693</td>\n",
       "      <td>10/26/2015 12:40</td>\n",
       "      <td>6.590000e+17</td>\n",
       "      <td>Palo Alto, CA</td>\n",
       "      <td>Pacific Time (US &amp; Canada)</td>\n",
       "    </tr>\n",
       "    <tr>\n",
       "      <th>4</th>\n",
       "      <td>815719230</td>\n",
       "      <td>False</td>\n",
       "      <td>finalized</td>\n",
       "      <td>3</td>\n",
       "      <td>10/27/2015 1:15</td>\n",
       "      <td>female</td>\n",
       "      <td>1.0000</td>\n",
       "      <td>yes</td>\n",
       "      <td>1.0</td>\n",
       "      <td>4/16/2014 13:23</td>\n",
       "      <td>...</td>\n",
       "      <td>https://pbs.twimg.com/profile_images/564094871...</td>\n",
       "      <td>0</td>\n",
       "      <td>0</td>\n",
       "      <td>Watching Neighbours on Sky+ catching up with t...</td>\n",
       "      <td>NaN</td>\n",
       "      <td>31462</td>\n",
       "      <td>10/26/2015 12:40</td>\n",
       "      <td>6.590000e+17</td>\n",
       "      <td>NaN</td>\n",
       "      <td>NaN</td>\n",
       "    </tr>\n",
       "  </tbody>\n",
       "</table>\n",
       "<p>5 rows × 26 columns</p>\n",
       "</div>"
      ],
      "text/plain": [
       "    _unit_id  _golden _unit_state  _trusted_judgments _last_judgment_at  \\\n",
       "0  815719226    False   finalized                   3  10/26/2015 23:24   \n",
       "1  815719227    False   finalized                   3  10/26/2015 23:30   \n",
       "2  815719228    False   finalized                   3  10/26/2015 23:33   \n",
       "3  815719229    False   finalized                   3  10/26/2015 23:10   \n",
       "4  815719230    False   finalized                   3   10/27/2015 1:15   \n",
       "\n",
       "   gender  gender:confidence profile_yn  profile_yn:confidence  \\\n",
       "0    male             1.0000        yes                    1.0   \n",
       "1    male             1.0000        yes                    1.0   \n",
       "2    male             0.6625        yes                    1.0   \n",
       "3    male             1.0000        yes                    1.0   \n",
       "4  female             1.0000        yes                    1.0   \n",
       "\n",
       "            created  ...                                       profileimage  \\\n",
       "0    12/5/2013 1:48  ...  https://pbs.twimg.com/profile_images/414342229...   \n",
       "1   10/1/2012 13:51  ...  https://pbs.twimg.com/profile_images/539604221...   \n",
       "2  11/28/2014 11:30  ...  https://pbs.twimg.com/profile_images/657330418...   \n",
       "3   6/11/2009 22:39  ...  https://pbs.twimg.com/profile_images/259703936...   \n",
       "4   4/16/2014 13:23  ...  https://pbs.twimg.com/profile_images/564094871...   \n",
       "\n",
       "   retweet_count sidebar_color  \\\n",
       "0              0        FFFFFF   \n",
       "1              0        C0DEED   \n",
       "2              1        C0DEED   \n",
       "3              0        C0DEED   \n",
       "4              0             0   \n",
       "\n",
       "                                                text tweet_coord tweet_count  \\\n",
       "0  Robbie E Responds To Critics After Win Against...         NaN      110964   \n",
       "1  It felt like they were my friends and I was li...         NaN        7471   \n",
       "2  i absolutely adore when louis starts the songs...         NaN        5617   \n",
       "3  Hi @JordanSpieth - Looking at the url - do you...         NaN        1693   \n",
       "4  Watching Neighbours on Sky+ catching up with t...         NaN       31462   \n",
       "\n",
       "      tweet_created      tweet_id   tweet_location               user_timezone  \n",
       "0  10/26/2015 12:40  6.590000e+17  main; @Kan1shk3                     Chennai  \n",
       "1  10/26/2015 12:40  6.590000e+17              NaN  Eastern Time (US & Canada)  \n",
       "2  10/26/2015 12:40  6.590000e+17           clcncl                    Belgrade  \n",
       "3  10/26/2015 12:40  6.590000e+17    Palo Alto, CA  Pacific Time (US & Canada)  \n",
       "4  10/26/2015 12:40  6.590000e+17              NaN                         NaN  \n",
       "\n",
       "[5 rows x 26 columns]"
      ]
     },
     "execution_count": 4,
     "metadata": {},
     "output_type": "execute_result"
    }
   ],
   "source": [
    "df.head()"
   ]
  },
  {
   "cell_type": "code",
   "execution_count": 5,
   "id": "c19163f9",
   "metadata": {},
   "outputs": [
    {
     "data": {
      "text/plain": [
       "Index(['_unit_id', '_golden', '_unit_state', '_trusted_judgments',\n",
       "       '_last_judgment_at', 'gender', 'gender:confidence', 'profile_yn',\n",
       "       'profile_yn:confidence', 'created', 'description', 'fav_number',\n",
       "       'gender_gold', 'link_color', 'name', 'profile_yn_gold', 'profileimage',\n",
       "       'retweet_count', 'sidebar_color', 'text', 'tweet_coord', 'tweet_count',\n",
       "       'tweet_created', 'tweet_id', 'tweet_location', 'user_timezone'],\n",
       "      dtype='object')"
      ]
     },
     "execution_count": 5,
     "metadata": {},
     "output_type": "execute_result"
    }
   ],
   "source": [
    "df.columns"
   ]
  },
  {
   "cell_type": "code",
   "execution_count": 6,
   "id": "7c959ad1",
   "metadata": {},
   "outputs": [
    {
     "name": "stdout",
     "output_type": "stream",
     "text": [
      "<class 'pandas.core.frame.DataFrame'>\n",
      "RangeIndex: 20050 entries, 0 to 20049\n",
      "Data columns (total 26 columns):\n",
      " #   Column                 Non-Null Count  Dtype  \n",
      "---  ------                 --------------  -----  \n",
      " 0   _unit_id               20050 non-null  int64  \n",
      " 1   _golden                20050 non-null  bool   \n",
      " 2   _unit_state            20050 non-null  object \n",
      " 3   _trusted_judgments     20050 non-null  int64  \n",
      " 4   _last_judgment_at      20000 non-null  object \n",
      " 5   gender                 19953 non-null  object \n",
      " 6   gender:confidence      20024 non-null  float64\n",
      " 7   profile_yn             20050 non-null  object \n",
      " 8   profile_yn:confidence  20050 non-null  float64\n",
      " 9   created                20050 non-null  object \n",
      " 10  description            16290 non-null  object \n",
      " 11  fav_number             20050 non-null  int64  \n",
      " 12  gender_gold            50 non-null     object \n",
      " 13  link_color             20050 non-null  object \n",
      " 14  name                   20050 non-null  object \n",
      " 15  profile_yn_gold        50 non-null     object \n",
      " 16  profileimage           20050 non-null  object \n",
      " 17  retweet_count          20050 non-null  int64  \n",
      " 18  sidebar_color          20050 non-null  object \n",
      " 19  text                   20050 non-null  object \n",
      " 20  tweet_coord            159 non-null    object \n",
      " 21  tweet_count            20050 non-null  int64  \n",
      " 22  tweet_created          20050 non-null  object \n",
      " 23  tweet_id               20050 non-null  float64\n",
      " 24  tweet_location         12555 non-null  object \n",
      " 25  user_timezone          12252 non-null  object \n",
      "dtypes: bool(1), float64(3), int64(5), object(17)\n",
      "memory usage: 3.8+ MB\n"
     ]
    }
   ],
   "source": [
    "df.info()"
   ]
  },
  {
   "cell_type": "code",
   "execution_count": 7,
   "id": "3e605e4d",
   "metadata": {},
   "outputs": [
    {
     "data": {
      "text/html": [
       "<div>\n",
       "<style scoped>\n",
       "    .dataframe tbody tr th:only-of-type {\n",
       "        vertical-align: middle;\n",
       "    }\n",
       "\n",
       "    .dataframe tbody tr th {\n",
       "        vertical-align: top;\n",
       "    }\n",
       "\n",
       "    .dataframe thead th {\n",
       "        text-align: right;\n",
       "    }\n",
       "</style>\n",
       "<table border=\"1\" class=\"dataframe\">\n",
       "  <thead>\n",
       "    <tr style=\"text-align: right;\">\n",
       "      <th></th>\n",
       "      <th>_unit_id</th>\n",
       "      <th>_golden</th>\n",
       "      <th>_unit_state</th>\n",
       "      <th>_trusted_judgments</th>\n",
       "      <th>_last_judgment_at</th>\n",
       "      <th>gender:confidence</th>\n",
       "      <th>profile_yn</th>\n",
       "      <th>profile_yn:confidence</th>\n",
       "      <th>created</th>\n",
       "      <th>description</th>\n",
       "      <th>...</th>\n",
       "      <th>profileimage</th>\n",
       "      <th>retweet_count</th>\n",
       "      <th>sidebar_color</th>\n",
       "      <th>text</th>\n",
       "      <th>tweet_coord</th>\n",
       "      <th>tweet_count</th>\n",
       "      <th>tweet_created</th>\n",
       "      <th>tweet_id</th>\n",
       "      <th>tweet_location</th>\n",
       "      <th>user_timezone</th>\n",
       "    </tr>\n",
       "    <tr>\n",
       "      <th>gender</th>\n",
       "      <th></th>\n",
       "      <th></th>\n",
       "      <th></th>\n",
       "      <th></th>\n",
       "      <th></th>\n",
       "      <th></th>\n",
       "      <th></th>\n",
       "      <th></th>\n",
       "      <th></th>\n",
       "      <th></th>\n",
       "      <th></th>\n",
       "      <th></th>\n",
       "      <th></th>\n",
       "      <th></th>\n",
       "      <th></th>\n",
       "      <th></th>\n",
       "      <th></th>\n",
       "      <th></th>\n",
       "      <th></th>\n",
       "      <th></th>\n",
       "      <th></th>\n",
       "    </tr>\n",
       "  </thead>\n",
       "  <tbody>\n",
       "    <tr>\n",
       "      <th>brand</th>\n",
       "      <td>5942</td>\n",
       "      <td>5942</td>\n",
       "      <td>5942</td>\n",
       "      <td>5942</td>\n",
       "      <td>5928</td>\n",
       "      <td>5942</td>\n",
       "      <td>5942</td>\n",
       "      <td>5942</td>\n",
       "      <td>5942</td>\n",
       "      <td>4328</td>\n",
       "      <td>...</td>\n",
       "      <td>5942</td>\n",
       "      <td>5942</td>\n",
       "      <td>5942</td>\n",
       "      <td>5942</td>\n",
       "      <td>79</td>\n",
       "      <td>5942</td>\n",
       "      <td>5942</td>\n",
       "      <td>5942</td>\n",
       "      <td>3247</td>\n",
       "      <td>3156</td>\n",
       "    </tr>\n",
       "    <tr>\n",
       "      <th>female</th>\n",
       "      <td>6700</td>\n",
       "      <td>6700</td>\n",
       "      <td>6700</td>\n",
       "      <td>6700</td>\n",
       "      <td>6685</td>\n",
       "      <td>6700</td>\n",
       "      <td>6700</td>\n",
       "      <td>6700</td>\n",
       "      <td>6700</td>\n",
       "      <td>5713</td>\n",
       "      <td>...</td>\n",
       "      <td>6700</td>\n",
       "      <td>6700</td>\n",
       "      <td>6700</td>\n",
       "      <td>6700</td>\n",
       "      <td>37</td>\n",
       "      <td>6700</td>\n",
       "      <td>6700</td>\n",
       "      <td>6700</td>\n",
       "      <td>4274</td>\n",
       "      <td>4353</td>\n",
       "    </tr>\n",
       "    <tr>\n",
       "      <th>male</th>\n",
       "      <td>6194</td>\n",
       "      <td>6194</td>\n",
       "      <td>6194</td>\n",
       "      <td>6194</td>\n",
       "      <td>6173</td>\n",
       "      <td>6194</td>\n",
       "      <td>6194</td>\n",
       "      <td>6194</td>\n",
       "      <td>6194</td>\n",
       "      <td>5466</td>\n",
       "      <td>...</td>\n",
       "      <td>6194</td>\n",
       "      <td>6194</td>\n",
       "      <td>6194</td>\n",
       "      <td>6194</td>\n",
       "      <td>41</td>\n",
       "      <td>6194</td>\n",
       "      <td>6194</td>\n",
       "      <td>6194</td>\n",
       "      <td>4464</td>\n",
       "      <td>4144</td>\n",
       "    </tr>\n",
       "    <tr>\n",
       "      <th>unknown</th>\n",
       "      <td>1117</td>\n",
       "      <td>1117</td>\n",
       "      <td>1117</td>\n",
       "      <td>1117</td>\n",
       "      <td>1117</td>\n",
       "      <td>1117</td>\n",
       "      <td>1117</td>\n",
       "      <td>1117</td>\n",
       "      <td>1117</td>\n",
       "      <td>701</td>\n",
       "      <td>...</td>\n",
       "      <td>1117</td>\n",
       "      <td>1117</td>\n",
       "      <td>1117</td>\n",
       "      <td>1117</td>\n",
       "      <td>2</td>\n",
       "      <td>1117</td>\n",
       "      <td>1117</td>\n",
       "      <td>1117</td>\n",
       "      <td>515</td>\n",
       "      <td>532</td>\n",
       "    </tr>\n",
       "  </tbody>\n",
       "</table>\n",
       "<p>4 rows × 25 columns</p>\n",
       "</div>"
      ],
      "text/plain": [
       "         _unit_id  _golden  _unit_state  _trusted_judgments  \\\n",
       "gender                                                        \n",
       "brand        5942     5942         5942                5942   \n",
       "female       6700     6700         6700                6700   \n",
       "male         6194     6194         6194                6194   \n",
       "unknown      1117     1117         1117                1117   \n",
       "\n",
       "         _last_judgment_at  gender:confidence  profile_yn  \\\n",
       "gender                                                      \n",
       "brand                 5928               5942        5942   \n",
       "female                6685               6700        6700   \n",
       "male                  6173               6194        6194   \n",
       "unknown               1117               1117        1117   \n",
       "\n",
       "         profile_yn:confidence  created  description  ...  profileimage  \\\n",
       "gender                                                ...                 \n",
       "brand                     5942     5942         4328  ...          5942   \n",
       "female                    6700     6700         5713  ...          6700   \n",
       "male                      6194     6194         5466  ...          6194   \n",
       "unknown                   1117     1117          701  ...          1117   \n",
       "\n",
       "         retweet_count  sidebar_color  text  tweet_coord  tweet_count  \\\n",
       "gender                                                                  \n",
       "brand             5942           5942  5942           79         5942   \n",
       "female            6700           6700  6700           37         6700   \n",
       "male              6194           6194  6194           41         6194   \n",
       "unknown           1117           1117  1117            2         1117   \n",
       "\n",
       "         tweet_created  tweet_id  tweet_location  user_timezone  \n",
       "gender                                                           \n",
       "brand             5942      5942            3247           3156  \n",
       "female            6700      6700            4274           4353  \n",
       "male              6194      6194            4464           4144  \n",
       "unknown           1117      1117             515            532  \n",
       "\n",
       "[4 rows x 25 columns]"
      ]
     },
     "execution_count": 7,
     "metadata": {},
     "output_type": "execute_result"
    }
   ],
   "source": [
    "df.groupby(\"gender\").count()"
   ]
  },
  {
   "cell_type": "code",
   "execution_count": 8,
   "id": "112486b8",
   "metadata": {},
   "outputs": [],
   "source": [
    "df['gender'].replace({'unknown': None},inplace =True)"
   ]
  },
  {
   "cell_type": "code",
   "execution_count": 9,
   "id": "9dcdcf0b",
   "metadata": {},
   "outputs": [
    {
     "data": {
      "text/html": [
       "<div>\n",
       "<style scoped>\n",
       "    .dataframe tbody tr th:only-of-type {\n",
       "        vertical-align: middle;\n",
       "    }\n",
       "\n",
       "    .dataframe tbody tr th {\n",
       "        vertical-align: top;\n",
       "    }\n",
       "\n",
       "    .dataframe thead th {\n",
       "        text-align: right;\n",
       "    }\n",
       "</style>\n",
       "<table border=\"1\" class=\"dataframe\">\n",
       "  <thead>\n",
       "    <tr style=\"text-align: right;\">\n",
       "      <th></th>\n",
       "      <th>_unit_id</th>\n",
       "      <th>_golden</th>\n",
       "      <th>_unit_state</th>\n",
       "      <th>_trusted_judgments</th>\n",
       "      <th>_last_judgment_at</th>\n",
       "      <th>gender:confidence</th>\n",
       "      <th>profile_yn</th>\n",
       "      <th>profile_yn:confidence</th>\n",
       "      <th>created</th>\n",
       "      <th>description</th>\n",
       "      <th>...</th>\n",
       "      <th>profileimage</th>\n",
       "      <th>retweet_count</th>\n",
       "      <th>sidebar_color</th>\n",
       "      <th>text</th>\n",
       "      <th>tweet_coord</th>\n",
       "      <th>tweet_count</th>\n",
       "      <th>tweet_created</th>\n",
       "      <th>tweet_id</th>\n",
       "      <th>tweet_location</th>\n",
       "      <th>user_timezone</th>\n",
       "    </tr>\n",
       "    <tr>\n",
       "      <th>gender</th>\n",
       "      <th></th>\n",
       "      <th></th>\n",
       "      <th></th>\n",
       "      <th></th>\n",
       "      <th></th>\n",
       "      <th></th>\n",
       "      <th></th>\n",
       "      <th></th>\n",
       "      <th></th>\n",
       "      <th></th>\n",
       "      <th></th>\n",
       "      <th></th>\n",
       "      <th></th>\n",
       "      <th></th>\n",
       "      <th></th>\n",
       "      <th></th>\n",
       "      <th></th>\n",
       "      <th></th>\n",
       "      <th></th>\n",
       "      <th></th>\n",
       "      <th></th>\n",
       "    </tr>\n",
       "  </thead>\n",
       "  <tbody>\n",
       "    <tr>\n",
       "      <th>brand</th>\n",
       "      <td>5942</td>\n",
       "      <td>5942</td>\n",
       "      <td>5942</td>\n",
       "      <td>5942</td>\n",
       "      <td>5928</td>\n",
       "      <td>5942</td>\n",
       "      <td>5942</td>\n",
       "      <td>5942</td>\n",
       "      <td>5942</td>\n",
       "      <td>4328</td>\n",
       "      <td>...</td>\n",
       "      <td>5942</td>\n",
       "      <td>5942</td>\n",
       "      <td>5942</td>\n",
       "      <td>5942</td>\n",
       "      <td>79</td>\n",
       "      <td>5942</td>\n",
       "      <td>5942</td>\n",
       "      <td>5942</td>\n",
       "      <td>3247</td>\n",
       "      <td>3156</td>\n",
       "    </tr>\n",
       "    <tr>\n",
       "      <th>female</th>\n",
       "      <td>6700</td>\n",
       "      <td>6700</td>\n",
       "      <td>6700</td>\n",
       "      <td>6700</td>\n",
       "      <td>6685</td>\n",
       "      <td>6700</td>\n",
       "      <td>6700</td>\n",
       "      <td>6700</td>\n",
       "      <td>6700</td>\n",
       "      <td>5713</td>\n",
       "      <td>...</td>\n",
       "      <td>6700</td>\n",
       "      <td>6700</td>\n",
       "      <td>6700</td>\n",
       "      <td>6700</td>\n",
       "      <td>37</td>\n",
       "      <td>6700</td>\n",
       "      <td>6700</td>\n",
       "      <td>6700</td>\n",
       "      <td>4274</td>\n",
       "      <td>4353</td>\n",
       "    </tr>\n",
       "    <tr>\n",
       "      <th>male</th>\n",
       "      <td>6194</td>\n",
       "      <td>6194</td>\n",
       "      <td>6194</td>\n",
       "      <td>6194</td>\n",
       "      <td>6173</td>\n",
       "      <td>6194</td>\n",
       "      <td>6194</td>\n",
       "      <td>6194</td>\n",
       "      <td>6194</td>\n",
       "      <td>5466</td>\n",
       "      <td>...</td>\n",
       "      <td>6194</td>\n",
       "      <td>6194</td>\n",
       "      <td>6194</td>\n",
       "      <td>6194</td>\n",
       "      <td>41</td>\n",
       "      <td>6194</td>\n",
       "      <td>6194</td>\n",
       "      <td>6194</td>\n",
       "      <td>4464</td>\n",
       "      <td>4144</td>\n",
       "    </tr>\n",
       "  </tbody>\n",
       "</table>\n",
       "<p>3 rows × 25 columns</p>\n",
       "</div>"
      ],
      "text/plain": [
       "        _unit_id  _golden  _unit_state  _trusted_judgments  _last_judgment_at  \\\n",
       "gender                                                                          \n",
       "brand       5942     5942         5942                5942               5928   \n",
       "female      6700     6700         6700                6700               6685   \n",
       "male        6194     6194         6194                6194               6173   \n",
       "\n",
       "        gender:confidence  profile_yn  profile_yn:confidence  created  \\\n",
       "gender                                                                  \n",
       "brand                5942        5942                   5942     5942   \n",
       "female               6700        6700                   6700     6700   \n",
       "male                 6194        6194                   6194     6194   \n",
       "\n",
       "        description  ...  profileimage  retweet_count  sidebar_color  text  \\\n",
       "gender               ...                                                     \n",
       "brand          4328  ...          5942           5942           5942  5942   \n",
       "female         5713  ...          6700           6700           6700  6700   \n",
       "male           5466  ...          6194           6194           6194  6194   \n",
       "\n",
       "        tweet_coord  tweet_count  tweet_created  tweet_id  tweet_location  \\\n",
       "gender                                                                      \n",
       "brand            79         5942           5942      5942            3247   \n",
       "female           37         6700           6700      6700            4274   \n",
       "male             41         6194           6194      6194            4464   \n",
       "\n",
       "        user_timezone  \n",
       "gender                 \n",
       "brand            3156  \n",
       "female           4353  \n",
       "male             4144  \n",
       "\n",
       "[3 rows x 25 columns]"
      ]
     },
     "execution_count": 9,
     "metadata": {},
     "output_type": "execute_result"
    }
   ],
   "source": [
    "df.groupby(\"gender\").count()"
   ]
  },
  {
   "cell_type": "code",
   "execution_count": 10,
   "id": "364fd363",
   "metadata": {},
   "outputs": [
    {
     "name": "stdout",
     "output_type": "stream",
     "text": [
      "<class 'pandas.core.frame.DataFrame'>\n",
      "RangeIndex: 20050 entries, 0 to 20049\n",
      "Data columns (total 26 columns):\n",
      " #   Column                 Non-Null Count  Dtype  \n",
      "---  ------                 --------------  -----  \n",
      " 0   _unit_id               20050 non-null  int64  \n",
      " 1   _golden                20050 non-null  bool   \n",
      " 2   _unit_state            20050 non-null  object \n",
      " 3   _trusted_judgments     20050 non-null  int64  \n",
      " 4   _last_judgment_at      20000 non-null  object \n",
      " 5   gender                 18836 non-null  object \n",
      " 6   gender:confidence      20024 non-null  float64\n",
      " 7   profile_yn             20050 non-null  object \n",
      " 8   profile_yn:confidence  20050 non-null  float64\n",
      " 9   created                20050 non-null  object \n",
      " 10  description            16290 non-null  object \n",
      " 11  fav_number             20050 non-null  int64  \n",
      " 12  gender_gold            50 non-null     object \n",
      " 13  link_color             20050 non-null  object \n",
      " 14  name                   20050 non-null  object \n",
      " 15  profile_yn_gold        50 non-null     object \n",
      " 16  profileimage           20050 non-null  object \n",
      " 17  retweet_count          20050 non-null  int64  \n",
      " 18  sidebar_color          20050 non-null  object \n",
      " 19  text                   20050 non-null  object \n",
      " 20  tweet_coord            159 non-null    object \n",
      " 21  tweet_count            20050 non-null  int64  \n",
      " 22  tweet_created          20050 non-null  object \n",
      " 23  tweet_id               20050 non-null  float64\n",
      " 24  tweet_location         12555 non-null  object \n",
      " 25  user_timezone          12252 non-null  object \n",
      "dtypes: bool(1), float64(3), int64(5), object(17)\n",
      "memory usage: 3.8+ MB\n"
     ]
    }
   ],
   "source": [
    "df.info()"
   ]
  },
  {
   "cell_type": "code",
   "execution_count": 11,
   "id": "261b739e",
   "metadata": {},
   "outputs": [],
   "source": [
    "df['gender'].fillna(df['gender'].mode()[0], inplace=True)"
   ]
  },
  {
   "cell_type": "code",
   "execution_count": 12,
   "id": "2604ac7c",
   "metadata": {},
   "outputs": [
    {
     "data": {
      "text/html": [
       "<div>\n",
       "<style scoped>\n",
       "    .dataframe tbody tr th:only-of-type {\n",
       "        vertical-align: middle;\n",
       "    }\n",
       "\n",
       "    .dataframe tbody tr th {\n",
       "        vertical-align: top;\n",
       "    }\n",
       "\n",
       "    .dataframe thead th {\n",
       "        text-align: right;\n",
       "    }\n",
       "</style>\n",
       "<table border=\"1\" class=\"dataframe\">\n",
       "  <thead>\n",
       "    <tr style=\"text-align: right;\">\n",
       "      <th></th>\n",
       "      <th>_unit_id</th>\n",
       "      <th>_golden</th>\n",
       "      <th>_unit_state</th>\n",
       "      <th>_trusted_judgments</th>\n",
       "      <th>_last_judgment_at</th>\n",
       "      <th>gender:confidence</th>\n",
       "      <th>profile_yn</th>\n",
       "      <th>profile_yn:confidence</th>\n",
       "      <th>created</th>\n",
       "      <th>description</th>\n",
       "      <th>...</th>\n",
       "      <th>profileimage</th>\n",
       "      <th>retweet_count</th>\n",
       "      <th>sidebar_color</th>\n",
       "      <th>text</th>\n",
       "      <th>tweet_coord</th>\n",
       "      <th>tweet_count</th>\n",
       "      <th>tweet_created</th>\n",
       "      <th>tweet_id</th>\n",
       "      <th>tweet_location</th>\n",
       "      <th>user_timezone</th>\n",
       "    </tr>\n",
       "    <tr>\n",
       "      <th>gender</th>\n",
       "      <th></th>\n",
       "      <th></th>\n",
       "      <th></th>\n",
       "      <th></th>\n",
       "      <th></th>\n",
       "      <th></th>\n",
       "      <th></th>\n",
       "      <th></th>\n",
       "      <th></th>\n",
       "      <th></th>\n",
       "      <th></th>\n",
       "      <th></th>\n",
       "      <th></th>\n",
       "      <th></th>\n",
       "      <th></th>\n",
       "      <th></th>\n",
       "      <th></th>\n",
       "      <th></th>\n",
       "      <th></th>\n",
       "      <th></th>\n",
       "      <th></th>\n",
       "    </tr>\n",
       "  </thead>\n",
       "  <tbody>\n",
       "    <tr>\n",
       "      <th>brand</th>\n",
       "      <td>5942</td>\n",
       "      <td>5942</td>\n",
       "      <td>5942</td>\n",
       "      <td>5942</td>\n",
       "      <td>5928</td>\n",
       "      <td>5942</td>\n",
       "      <td>5942</td>\n",
       "      <td>5942</td>\n",
       "      <td>5942</td>\n",
       "      <td>4328</td>\n",
       "      <td>...</td>\n",
       "      <td>5942</td>\n",
       "      <td>5942</td>\n",
       "      <td>5942</td>\n",
       "      <td>5942</td>\n",
       "      <td>79</td>\n",
       "      <td>5942</td>\n",
       "      <td>5942</td>\n",
       "      <td>5942</td>\n",
       "      <td>3247</td>\n",
       "      <td>3156</td>\n",
       "    </tr>\n",
       "    <tr>\n",
       "      <th>female</th>\n",
       "      <td>7914</td>\n",
       "      <td>7914</td>\n",
       "      <td>7914</td>\n",
       "      <td>7914</td>\n",
       "      <td>7899</td>\n",
       "      <td>7888</td>\n",
       "      <td>7914</td>\n",
       "      <td>7914</td>\n",
       "      <td>7914</td>\n",
       "      <td>6496</td>\n",
       "      <td>...</td>\n",
       "      <td>7914</td>\n",
       "      <td>7914</td>\n",
       "      <td>7914</td>\n",
       "      <td>7914</td>\n",
       "      <td>39</td>\n",
       "      <td>7914</td>\n",
       "      <td>7914</td>\n",
       "      <td>7914</td>\n",
       "      <td>4844</td>\n",
       "      <td>4952</td>\n",
       "    </tr>\n",
       "    <tr>\n",
       "      <th>male</th>\n",
       "      <td>6194</td>\n",
       "      <td>6194</td>\n",
       "      <td>6194</td>\n",
       "      <td>6194</td>\n",
       "      <td>6173</td>\n",
       "      <td>6194</td>\n",
       "      <td>6194</td>\n",
       "      <td>6194</td>\n",
       "      <td>6194</td>\n",
       "      <td>5466</td>\n",
       "      <td>...</td>\n",
       "      <td>6194</td>\n",
       "      <td>6194</td>\n",
       "      <td>6194</td>\n",
       "      <td>6194</td>\n",
       "      <td>41</td>\n",
       "      <td>6194</td>\n",
       "      <td>6194</td>\n",
       "      <td>6194</td>\n",
       "      <td>4464</td>\n",
       "      <td>4144</td>\n",
       "    </tr>\n",
       "  </tbody>\n",
       "</table>\n",
       "<p>3 rows × 25 columns</p>\n",
       "</div>"
      ],
      "text/plain": [
       "        _unit_id  _golden  _unit_state  _trusted_judgments  _last_judgment_at  \\\n",
       "gender                                                                          \n",
       "brand       5942     5942         5942                5942               5928   \n",
       "female      7914     7914         7914                7914               7899   \n",
       "male        6194     6194         6194                6194               6173   \n",
       "\n",
       "        gender:confidence  profile_yn  profile_yn:confidence  created  \\\n",
       "gender                                                                  \n",
       "brand                5942        5942                   5942     5942   \n",
       "female               7888        7914                   7914     7914   \n",
       "male                 6194        6194                   6194     6194   \n",
       "\n",
       "        description  ...  profileimage  retweet_count  sidebar_color  text  \\\n",
       "gender               ...                                                     \n",
       "brand          4328  ...          5942           5942           5942  5942   \n",
       "female         6496  ...          7914           7914           7914  7914   \n",
       "male           5466  ...          6194           6194           6194  6194   \n",
       "\n",
       "        tweet_coord  tweet_count  tweet_created  tweet_id  tweet_location  \\\n",
       "gender                                                                      \n",
       "brand            79         5942           5942      5942            3247   \n",
       "female           39         7914           7914      7914            4844   \n",
       "male             41         6194           6194      6194            4464   \n",
       "\n",
       "        user_timezone  \n",
       "gender                 \n",
       "brand            3156  \n",
       "female           4952  \n",
       "male             4144  \n",
       "\n",
       "[3 rows x 25 columns]"
      ]
     },
     "execution_count": 12,
     "metadata": {},
     "output_type": "execute_result"
    }
   ],
   "source": [
    "df.groupby(\"gender\").count()"
   ]
  },
  {
   "cell_type": "code",
   "execution_count": 13,
   "id": "3fae0c68",
   "metadata": {},
   "outputs": [
    {
     "name": "stdout",
     "output_type": "stream",
     "text": [
      "<class 'pandas.core.frame.DataFrame'>\n",
      "RangeIndex: 20050 entries, 0 to 20049\n",
      "Data columns (total 26 columns):\n",
      " #   Column                 Non-Null Count  Dtype  \n",
      "---  ------                 --------------  -----  \n",
      " 0   _unit_id               20050 non-null  int64  \n",
      " 1   _golden                20050 non-null  bool   \n",
      " 2   _unit_state            20050 non-null  object \n",
      " 3   _trusted_judgments     20050 non-null  int64  \n",
      " 4   _last_judgment_at      20000 non-null  object \n",
      " 5   gender                 20050 non-null  object \n",
      " 6   gender:confidence      20024 non-null  float64\n",
      " 7   profile_yn             20050 non-null  object \n",
      " 8   profile_yn:confidence  20050 non-null  float64\n",
      " 9   created                20050 non-null  object \n",
      " 10  description            16290 non-null  object \n",
      " 11  fav_number             20050 non-null  int64  \n",
      " 12  gender_gold            50 non-null     object \n",
      " 13  link_color             20050 non-null  object \n",
      " 14  name                   20050 non-null  object \n",
      " 15  profile_yn_gold        50 non-null     object \n",
      " 16  profileimage           20050 non-null  object \n",
      " 17  retweet_count          20050 non-null  int64  \n",
      " 18  sidebar_color          20050 non-null  object \n",
      " 19  text                   20050 non-null  object \n",
      " 20  tweet_coord            159 non-null    object \n",
      " 21  tweet_count            20050 non-null  int64  \n",
      " 22  tweet_created          20050 non-null  object \n",
      " 23  tweet_id               20050 non-null  float64\n",
      " 24  tweet_location         12555 non-null  object \n",
      " 25  user_timezone          12252 non-null  object \n",
      "dtypes: bool(1), float64(3), int64(5), object(17)\n",
      "memory usage: 3.8+ MB\n"
     ]
    }
   ],
   "source": [
    "df.info()"
   ]
  },
  {
   "cell_type": "code",
   "execution_count": 14,
   "id": "1fa22e7e",
   "metadata": {},
   "outputs": [],
   "source": [
    "df['gender_new'] = np.where(df['gender'] == 'female', 0, np.where(df['gender'] == 'male', 0, 1))"
   ]
  },
  {
   "cell_type": "code",
   "execution_count": 15,
   "id": "f7f86797",
   "metadata": {},
   "outputs": [
    {
     "data": {
      "text/html": [
       "<div>\n",
       "<style scoped>\n",
       "    .dataframe tbody tr th:only-of-type {\n",
       "        vertical-align: middle;\n",
       "    }\n",
       "\n",
       "    .dataframe tbody tr th {\n",
       "        vertical-align: top;\n",
       "    }\n",
       "\n",
       "    .dataframe thead th {\n",
       "        text-align: right;\n",
       "    }\n",
       "</style>\n",
       "<table border=\"1\" class=\"dataframe\">\n",
       "  <thead>\n",
       "    <tr style=\"text-align: right;\">\n",
       "      <th></th>\n",
       "      <th>_unit_id</th>\n",
       "      <th>_golden</th>\n",
       "      <th>_unit_state</th>\n",
       "      <th>_trusted_judgments</th>\n",
       "      <th>_last_judgment_at</th>\n",
       "      <th>gender</th>\n",
       "      <th>gender:confidence</th>\n",
       "      <th>profile_yn</th>\n",
       "      <th>profile_yn:confidence</th>\n",
       "      <th>created</th>\n",
       "      <th>...</th>\n",
       "      <th>profileimage</th>\n",
       "      <th>retweet_count</th>\n",
       "      <th>sidebar_color</th>\n",
       "      <th>text</th>\n",
       "      <th>tweet_coord</th>\n",
       "      <th>tweet_count</th>\n",
       "      <th>tweet_created</th>\n",
       "      <th>tweet_id</th>\n",
       "      <th>tweet_location</th>\n",
       "      <th>user_timezone</th>\n",
       "    </tr>\n",
       "    <tr>\n",
       "      <th>gender_new</th>\n",
       "      <th></th>\n",
       "      <th></th>\n",
       "      <th></th>\n",
       "      <th></th>\n",
       "      <th></th>\n",
       "      <th></th>\n",
       "      <th></th>\n",
       "      <th></th>\n",
       "      <th></th>\n",
       "      <th></th>\n",
       "      <th></th>\n",
       "      <th></th>\n",
       "      <th></th>\n",
       "      <th></th>\n",
       "      <th></th>\n",
       "      <th></th>\n",
       "      <th></th>\n",
       "      <th></th>\n",
       "      <th></th>\n",
       "      <th></th>\n",
       "      <th></th>\n",
       "    </tr>\n",
       "  </thead>\n",
       "  <tbody>\n",
       "    <tr>\n",
       "      <th>0</th>\n",
       "      <td>14108</td>\n",
       "      <td>14108</td>\n",
       "      <td>14108</td>\n",
       "      <td>14108</td>\n",
       "      <td>14072</td>\n",
       "      <td>14108</td>\n",
       "      <td>14082</td>\n",
       "      <td>14108</td>\n",
       "      <td>14108</td>\n",
       "      <td>14108</td>\n",
       "      <td>...</td>\n",
       "      <td>14108</td>\n",
       "      <td>14108</td>\n",
       "      <td>14108</td>\n",
       "      <td>14108</td>\n",
       "      <td>80</td>\n",
       "      <td>14108</td>\n",
       "      <td>14108</td>\n",
       "      <td>14108</td>\n",
       "      <td>9308</td>\n",
       "      <td>9096</td>\n",
       "    </tr>\n",
       "    <tr>\n",
       "      <th>1</th>\n",
       "      <td>5942</td>\n",
       "      <td>5942</td>\n",
       "      <td>5942</td>\n",
       "      <td>5942</td>\n",
       "      <td>5928</td>\n",
       "      <td>5942</td>\n",
       "      <td>5942</td>\n",
       "      <td>5942</td>\n",
       "      <td>5942</td>\n",
       "      <td>5942</td>\n",
       "      <td>...</td>\n",
       "      <td>5942</td>\n",
       "      <td>5942</td>\n",
       "      <td>5942</td>\n",
       "      <td>5942</td>\n",
       "      <td>79</td>\n",
       "      <td>5942</td>\n",
       "      <td>5942</td>\n",
       "      <td>5942</td>\n",
       "      <td>3247</td>\n",
       "      <td>3156</td>\n",
       "    </tr>\n",
       "  </tbody>\n",
       "</table>\n",
       "<p>2 rows × 26 columns</p>\n",
       "</div>"
      ],
      "text/plain": [
       "            _unit_id  _golden  _unit_state  _trusted_judgments  \\\n",
       "gender_new                                                       \n",
       "0              14108    14108        14108               14108   \n",
       "1               5942     5942         5942                5942   \n",
       "\n",
       "            _last_judgment_at  gender  gender:confidence  profile_yn  \\\n",
       "gender_new                                                             \n",
       "0                       14072   14108              14082       14108   \n",
       "1                        5928    5942               5942        5942   \n",
       "\n",
       "            profile_yn:confidence  created  ...  profileimage  retweet_count  \\\n",
       "gender_new                                  ...                                \n",
       "0                           14108    14108  ...         14108          14108   \n",
       "1                            5942     5942  ...          5942           5942   \n",
       "\n",
       "            sidebar_color   text  tweet_coord  tweet_count  tweet_created  \\\n",
       "gender_new                                                                  \n",
       "0                   14108  14108           80        14108          14108   \n",
       "1                    5942   5942           79         5942           5942   \n",
       "\n",
       "            tweet_id  tweet_location  user_timezone  \n",
       "gender_new                                           \n",
       "0              14108            9308           9096  \n",
       "1               5942            3247           3156  \n",
       "\n",
       "[2 rows x 26 columns]"
      ]
     },
     "execution_count": 15,
     "metadata": {},
     "output_type": "execute_result"
    }
   ],
   "source": [
    "df.groupby('gender_new').count()"
   ]
  },
  {
   "cell_type": "code",
   "execution_count": 16,
   "id": "16e7c656",
   "metadata": {},
   "outputs": [
    {
     "data": {
      "text/html": [
       "<div>\n",
       "<style scoped>\n",
       "    .dataframe tbody tr th:only-of-type {\n",
       "        vertical-align: middle;\n",
       "    }\n",
       "\n",
       "    .dataframe tbody tr th {\n",
       "        vertical-align: top;\n",
       "    }\n",
       "\n",
       "    .dataframe thead th {\n",
       "        text-align: right;\n",
       "    }\n",
       "</style>\n",
       "<table border=\"1\" class=\"dataframe\">\n",
       "  <thead>\n",
       "    <tr style=\"text-align: right;\">\n",
       "      <th></th>\n",
       "      <th>_unit_id</th>\n",
       "      <th>_golden</th>\n",
       "      <th>_unit_state</th>\n",
       "      <th>_trusted_judgments</th>\n",
       "      <th>_last_judgment_at</th>\n",
       "      <th>gender:confidence</th>\n",
       "      <th>profile_yn</th>\n",
       "      <th>profile_yn:confidence</th>\n",
       "      <th>created</th>\n",
       "      <th>description</th>\n",
       "      <th>...</th>\n",
       "      <th>retweet_count</th>\n",
       "      <th>sidebar_color</th>\n",
       "      <th>text</th>\n",
       "      <th>tweet_coord</th>\n",
       "      <th>tweet_count</th>\n",
       "      <th>tweet_created</th>\n",
       "      <th>tweet_id</th>\n",
       "      <th>tweet_location</th>\n",
       "      <th>user_timezone</th>\n",
       "      <th>gender_new</th>\n",
       "    </tr>\n",
       "    <tr>\n",
       "      <th>gender</th>\n",
       "      <th></th>\n",
       "      <th></th>\n",
       "      <th></th>\n",
       "      <th></th>\n",
       "      <th></th>\n",
       "      <th></th>\n",
       "      <th></th>\n",
       "      <th></th>\n",
       "      <th></th>\n",
       "      <th></th>\n",
       "      <th></th>\n",
       "      <th></th>\n",
       "      <th></th>\n",
       "      <th></th>\n",
       "      <th></th>\n",
       "      <th></th>\n",
       "      <th></th>\n",
       "      <th></th>\n",
       "      <th></th>\n",
       "      <th></th>\n",
       "      <th></th>\n",
       "    </tr>\n",
       "  </thead>\n",
       "  <tbody>\n",
       "    <tr>\n",
       "      <th>brand</th>\n",
       "      <td>5942</td>\n",
       "      <td>5942</td>\n",
       "      <td>5942</td>\n",
       "      <td>5942</td>\n",
       "      <td>5928</td>\n",
       "      <td>5942</td>\n",
       "      <td>5942</td>\n",
       "      <td>5942</td>\n",
       "      <td>5942</td>\n",
       "      <td>4328</td>\n",
       "      <td>...</td>\n",
       "      <td>5942</td>\n",
       "      <td>5942</td>\n",
       "      <td>5942</td>\n",
       "      <td>79</td>\n",
       "      <td>5942</td>\n",
       "      <td>5942</td>\n",
       "      <td>5942</td>\n",
       "      <td>3247</td>\n",
       "      <td>3156</td>\n",
       "      <td>5942</td>\n",
       "    </tr>\n",
       "    <tr>\n",
       "      <th>female</th>\n",
       "      <td>7914</td>\n",
       "      <td>7914</td>\n",
       "      <td>7914</td>\n",
       "      <td>7914</td>\n",
       "      <td>7899</td>\n",
       "      <td>7888</td>\n",
       "      <td>7914</td>\n",
       "      <td>7914</td>\n",
       "      <td>7914</td>\n",
       "      <td>6496</td>\n",
       "      <td>...</td>\n",
       "      <td>7914</td>\n",
       "      <td>7914</td>\n",
       "      <td>7914</td>\n",
       "      <td>39</td>\n",
       "      <td>7914</td>\n",
       "      <td>7914</td>\n",
       "      <td>7914</td>\n",
       "      <td>4844</td>\n",
       "      <td>4952</td>\n",
       "      <td>7914</td>\n",
       "    </tr>\n",
       "    <tr>\n",
       "      <th>male</th>\n",
       "      <td>6194</td>\n",
       "      <td>6194</td>\n",
       "      <td>6194</td>\n",
       "      <td>6194</td>\n",
       "      <td>6173</td>\n",
       "      <td>6194</td>\n",
       "      <td>6194</td>\n",
       "      <td>6194</td>\n",
       "      <td>6194</td>\n",
       "      <td>5466</td>\n",
       "      <td>...</td>\n",
       "      <td>6194</td>\n",
       "      <td>6194</td>\n",
       "      <td>6194</td>\n",
       "      <td>41</td>\n",
       "      <td>6194</td>\n",
       "      <td>6194</td>\n",
       "      <td>6194</td>\n",
       "      <td>4464</td>\n",
       "      <td>4144</td>\n",
       "      <td>6194</td>\n",
       "    </tr>\n",
       "  </tbody>\n",
       "</table>\n",
       "<p>3 rows × 26 columns</p>\n",
       "</div>"
      ],
      "text/plain": [
       "        _unit_id  _golden  _unit_state  _trusted_judgments  _last_judgment_at  \\\n",
       "gender                                                                          \n",
       "brand       5942     5942         5942                5942               5928   \n",
       "female      7914     7914         7914                7914               7899   \n",
       "male        6194     6194         6194                6194               6173   \n",
       "\n",
       "        gender:confidence  profile_yn  profile_yn:confidence  created  \\\n",
       "gender                                                                  \n",
       "brand                5942        5942                   5942     5942   \n",
       "female               7888        7914                   7914     7914   \n",
       "male                 6194        6194                   6194     6194   \n",
       "\n",
       "        description  ...  retweet_count  sidebar_color  text  tweet_coord  \\\n",
       "gender               ...                                                    \n",
       "brand          4328  ...           5942           5942  5942           79   \n",
       "female         6496  ...           7914           7914  7914           39   \n",
       "male           5466  ...           6194           6194  6194           41   \n",
       "\n",
       "        tweet_count  tweet_created  tweet_id  tweet_location  user_timezone  \\\n",
       "gender                                                                        \n",
       "brand          5942           5942      5942            3247           3156   \n",
       "female         7914           7914      7914            4844           4952   \n",
       "male           6194           6194      6194            4464           4144   \n",
       "\n",
       "        gender_new  \n",
       "gender              \n",
       "brand         5942  \n",
       "female        7914  \n",
       "male          6194  \n",
       "\n",
       "[3 rows x 26 columns]"
      ]
     },
     "execution_count": 16,
     "metadata": {},
     "output_type": "execute_result"
    }
   ],
   "source": [
    "df.groupby('gender').count()"
   ]
  },
  {
   "cell_type": "code",
   "execution_count": 17,
   "id": "598ee5ea",
   "metadata": {},
   "outputs": [
    {
     "name": "stdout",
     "output_type": "stream",
     "text": [
      "<class 'pandas.core.frame.DataFrame'>\n",
      "RangeIndex: 20050 entries, 0 to 20049\n",
      "Data columns (total 27 columns):\n",
      " #   Column                 Non-Null Count  Dtype  \n",
      "---  ------                 --------------  -----  \n",
      " 0   _unit_id               20050 non-null  int64  \n",
      " 1   _golden                20050 non-null  bool   \n",
      " 2   _unit_state            20050 non-null  object \n",
      " 3   _trusted_judgments     20050 non-null  int64  \n",
      " 4   _last_judgment_at      20000 non-null  object \n",
      " 5   gender                 20050 non-null  object \n",
      " 6   gender:confidence      20024 non-null  float64\n",
      " 7   profile_yn             20050 non-null  object \n",
      " 8   profile_yn:confidence  20050 non-null  float64\n",
      " 9   created                20050 non-null  object \n",
      " 10  description            16290 non-null  object \n",
      " 11  fav_number             20050 non-null  int64  \n",
      " 12  gender_gold            50 non-null     object \n",
      " 13  link_color             20050 non-null  object \n",
      " 14  name                   20050 non-null  object \n",
      " 15  profile_yn_gold        50 non-null     object \n",
      " 16  profileimage           20050 non-null  object \n",
      " 17  retweet_count          20050 non-null  int64  \n",
      " 18  sidebar_color          20050 non-null  object \n",
      " 19  text                   20050 non-null  object \n",
      " 20  tweet_coord            159 non-null    object \n",
      " 21  tweet_count            20050 non-null  int64  \n",
      " 22  tweet_created          20050 non-null  object \n",
      " 23  tweet_id               20050 non-null  float64\n",
      " 24  tweet_location         12555 non-null  object \n",
      " 25  user_timezone          12252 non-null  object \n",
      " 26  gender_new             20050 non-null  int32  \n",
      "dtypes: bool(1), float64(3), int32(1), int64(5), object(17)\n",
      "memory usage: 3.9+ MB\n"
     ]
    }
   ],
   "source": [
    "df.info()"
   ]
  },
  {
   "cell_type": "code",
   "execution_count": 18,
   "id": "6529bc5e",
   "metadata": {},
   "outputs": [],
   "source": [
    "#Visualization"
   ]
  },
  {
   "cell_type": "code",
   "execution_count": 19,
   "id": "2fabea32",
   "metadata": {},
   "outputs": [
    {
     "data": {
      "text/plain": [
       "<matplotlib.collections.PathCollection at 0x1f69e744520>"
      ]
     },
     "execution_count": 19,
     "metadata": {},
     "output_type": "execute_result"
    },
    {
     "data": {
      "image/png": "[encoded data removed]",
      "text/plain": [
       "<Figure size 432x288 with 1 Axes>"
      ]
     },
     "metadata": {
      "needs_background": "light"
     },
     "output_type": "display_data"
    }
   ],
   "source": [
    "#scatterplot\n",
    "plt.scatter(x = 'fav_number', y = 'tweet_count', data = df)"
   ]
  },
  {
   "cell_type": "code",
   "execution_count": 20,
   "id": "2ed5314a",
   "metadata": {},
   "outputs": [
    {
     "data": {
      "text/plain": [
       "<matplotlib.collections.PathCollection at 0x1f69ec8f460>"
      ]
     },
     "execution_count": 20,
     "metadata": {},
     "output_type": "execute_result"
    },
    {
     "data": {
      "image/png": "[encoded data removed]",
      "text/plain": [
       "<Figure size 432x288 with 1 Axes>"
      ]
     },
     "metadata": {
      "needs_background": "light"
     },
     "output_type": "display_data"
    }
   ],
   "source": [
    "plt.scatter(x = 'gender_new', y = 'tweet_created', data = df)"
   ]
  },
  {
   "cell_type": "code",
   "execution_count": 22,
   "id": "cb96b4ce",
   "metadata": {},
   "outputs": [
    {
     "data": {
      "text/plain": [
       "<matplotlib.collections.PathCollection at 0x1f6ba0a6fd0>"
      ]
     },
     "execution_count": 22,
     "metadata": {},
     "output_type": "execute_result"
    },
    {
     "data": {
      "image/png": "[encoded data removed]",
      "text/plain": [
       "<Figure size 432x288 with 1 Axes>"
      ]
     },
     "metadata": {
      "needs_background": "light"
     },
     "output_type": "display_data"
    }
   ],
   "source": [
    "plt.scatter(x = 'tweet_created', y = 'tweet_count', data = df)"
   ]
  },
  {
   "cell_type": "code",
   "execution_count": 25,
   "id": "930201a9",
   "metadata": {},
   "outputs": [
    {
     "data": {
      "text/plain": [
       "<matplotlib.collections.PathCollection at 0x1f6e77ee130>"
      ]
     },
     "execution_count": 25,
     "metadata": {},
     "output_type": "execute_result"
    },
    {
     "data": {
      "image/png": "[encoded data removed]",
      "text/plain": [
       "<Figure size 432x288 with 1 Axes>"
      ]
     },
     "metadata": {
      "needs_background": "light"
     },
     "output_type": "display_data"
    }
   ],
   "source": [
    "plt.scatter(x = '_unit_id', y = 'fav_number', data = df)"
   ]
  },
  {
   "cell_type": "code",
   "execution_count": 26,
   "id": "266eb9c5",
   "metadata": {},
   "outputs": [
    {
     "data": {
      "text/plain": [
       "<matplotlib.collections.PathCollection at 0x1f6e8e16880>"
      ]
     },
     "execution_count": 26,
     "metadata": {},
     "output_type": "execute_result"
    },
    {
     "data": {
      "image/png": "[encoded data removed]",
      "text/plain": [
       "<Figure size 432x288 with 1 Axes>"
      ]
     },
     "metadata": {
      "needs_background": "light"
     },
     "output_type": "display_data"
    }
   ],
   "source": [
    "plt.scatter(x = '_unit_id', y = 'tweet_count', data = df)"
   ]
  },
  {
   "cell_type": "code",
   "execution_count": 27,
   "id": "3a22658f",
   "metadata": {},
   "outputs": [
    {
     "data": {
      "text/plain": [
       "<matplotlib.collections.PathCollection at 0x1f6e8ddd460>"
      ]
     },
     "execution_count": 27,
     "metadata": {},
     "output_type": "execute_result"
    },
    {
     "data": {
      "image/png": "[encoded data removed]",
      "text/plain": [
       "<Figure size 432x288 with 1 Axes>"
      ]
     },
     "metadata": {
      "needs_background": "light"
     },
     "output_type": "display_data"
    }
   ],
   "source": [
    "plt.scatter(x = '_unit_id', y = 'tweet_created', data = df)"
   ]
  },
  {
   "cell_type": "code",
   "execution_count": 28,
   "id": "d36ba62c",
   "metadata": {},
   "outputs": [
    {
     "data": {
      "text/plain": [
       "<matplotlib.collections.PathCollection at 0x1f6e78522b0>"
      ]
     },
     "execution_count": 28,
     "metadata": {},
     "output_type": "execute_result"
    },
    {
     "data": {
      "image/png": "[encoded data removed]",
      "text/plain": [
       "<Figure size 432x288 with 1 Axes>"
      ]
     },
     "metadata": {
      "needs_background": "light"
     },
     "output_type": "display_data"
    }
   ],
   "source": [
    "plt.scatter(x = 'fav_number', y = 'tweet_created', data = df)"
   ]
  },
  {
   "cell_type": "code",
   "execution_count": 39,
   "id": "beb524be",
   "metadata": {},
   "outputs": [
    {
     "data": {
      "text/plain": [
       "<matplotlib.collections.PathCollection at 0x1f6e7b3bac0>"
      ]
     },
     "execution_count": 39,
     "metadata": {},
     "output_type": "execute_result"
    },
    {
     "data": {
      "image/png": "[encoded data removed]",
      "text/plain": [
       "<Figure size 432x288 with 1 Axes>"
      ]
     },
     "metadata": {
      "needs_background": "light"
     },
     "output_type": "display_data"
    }
   ],
   "source": [
    "plt.scatter(x = '_unit_id', y = 'retweet_count', data = df)"
   ]
  },
  {
   "cell_type": "code",
   "execution_count": 40,
   "id": "d8aed58f",
   "metadata": {},
   "outputs": [
    {
     "data": {
      "text/plain": [
       "<seaborn.axisgrid.FacetGrid at 0x1f6e79c6e20>"
      ]
     },
     "execution_count": 40,
     "metadata": {},
     "output_type": "execute_result"
    },
    {
     "data": {
      "image/png": "[encoded data removed]",
      "text/plain": [
       "<Figure size 430.5x360 with 1 Axes>"
      ]
     },
     "metadata": {
      "needs_background": "light"
     },
     "output_type": "display_data"
    }
   ],
   "source": [
    "#Implot for fav_number and tweet_count\n",
    "sns.lmplot(x='fav_number', y='tweet_count', data=df, fit_reg=False, hue='gender')"
   ]
  },
  {
   "cell_type": "code",
   "execution_count": 90,
   "id": "0283b20d",
   "metadata": {},
   "outputs": [
    {
     "data": {
      "text/plain": [
       "<seaborn.axisgrid.FacetGrid at 0x1f739efc160>"
      ]
     },
     "execution_count": 90,
     "metadata": {},
     "output_type": "execute_result"
    },
    {
     "data": {
      "image/png": "[encoded data removed]",
      "text/plain": [
       "<Figure size 426.125x360 with 1 Axes>"
      ]
     },
     "metadata": {},
     "output_type": "display_data"
    }
   ],
   "source": [
    "#Implot for retweet_count and tweet_count\n",
    "sns.lmplot(x='retweet_count', y='tweet_count', data=df, fit_reg=False, hue='gender')"
   ]
  },
  {
   "cell_type": "code",
   "execution_count": 44,
   "id": "55c8db79",
   "metadata": {},
   "outputs": [
    {
     "data": {
      "text/plain": [
       "<AxesSubplot:>"
      ]
     },
     "execution_count": 44,
     "metadata": {},
     "output_type": "execute_result"
    },
    {
     "data": {
      "image/png": "[encoded data removed]",
      "text/plain": [
       "<Figure size 432x288 with 1 Axes>"
      ]
     },
     "metadata": {
      "needs_background": "light"
     },
     "output_type": "display_data"
    }
   ],
   "source": [
    "#boxplot for tweet_count\n",
    "sns.boxplot(data=df['tweet_count'])"
   ]
  },
  {
   "cell_type": "code",
   "execution_count": 45,
   "id": "d8b4e6b4",
   "metadata": {},
   "outputs": [
    {
     "data": {
      "text/plain": [
       "<AxesSubplot:>"
      ]
     },
     "execution_count": 45,
     "metadata": {},
     "output_type": "execute_result"
    },
    {
     "data": {
      "image/png": "[encoded data removed]",
      "text/plain": [
       "<Figure size 432x288 with 1 Axes>"
      ]
     },
     "metadata": {
      "needs_background": "light"
     },
     "output_type": "display_data"
    }
   ],
   "source": [
    "#boxplot for fav_number\n",
    "sns.boxplot(data=df['fav_number'])"
   ]
  },
  {
   "cell_type": "code",
   "execution_count": 46,
   "id": "999bfdda",
   "metadata": {},
   "outputs": [
    {
     "data": {
      "text/plain": [
       "<AxesSubplot:>"
      ]
     },
     "execution_count": 46,
     "metadata": {},
     "output_type": "execute_result"
    },
    {
     "data": {
      "image/png": "[encoded data removed]",
      "text/plain": [
       "<Figure size 432x288 with 1 Axes>"
      ]
     },
     "metadata": {
      "needs_background": "light"
     },
     "output_type": "display_data"
    }
   ],
   "source": [
    "#boxplot for gender_new\n",
    "sns.boxplot(data=df['gender_new'])"
   ]
  },
  {
   "cell_type": "code",
   "execution_count": 47,
   "id": "55b3fef1",
   "metadata": {},
   "outputs": [
    {
     "data": {
      "text/plain": [
       "<AxesSubplot:>"
      ]
     },
     "execution_count": 47,
     "metadata": {},
     "output_type": "execute_result"
    },
    {
     "data": {
      "image/png": "[encoded data removed]",
      "text/plain": [
       "<Figure size 432x288 with 1 Axes>"
      ]
     },
     "metadata": {
      "needs_background": "light"
     },
     "output_type": "display_data"
    }
   ],
   "source": [
    "#boxplot for retweet_count\n",
    "sns.boxplot(data=df['retweet_count'])"
   ]
  },
  {
   "cell_type": "code",
   "execution_count": 76,
   "id": "00fc22c5",
   "metadata": {},
   "outputs": [
    {
     "name": "stderr",
     "output_type": "stream",
     "text": [
      "C:\\Users\\vicky\\anaconda3\\lib\\site-packages\\seaborn\\_decorators.py:36: FutureWarning: Pass the following variable as a keyword arg: y. From version 0.12, the only valid positional argument will be `data`, and passing other arguments without an explicit keyword will result in an error or misinterpretation.\n",
      "  warnings.warn(\n"
     ]
    },
    {
     "data": {
      "text/plain": [
       "<AxesSubplot:xlabel='tweet_count', ylabel='fav_number'>"
      ]
     },
     "execution_count": 76,
     "metadata": {},
     "output_type": "execute_result"
    },
    {
     "data": {
      "image/png": "[encoded data removed]",
      "text/plain": [
       "<Figure size 432x288 with 1 Axes>"
      ]
     },
     "metadata": {},
     "output_type": "display_data"
    }
   ],
   "source": [
    "#kdeplot for tweet count and fav_number\n",
    "sns.kdeplot(df.tweet_count, df.fav_number)"
   ]
  },
  {
   "cell_type": "code",
   "execution_count": 61,
   "id": "0d70d4c4",
   "metadata": {},
   "outputs": [
    {
     "data": {
      "text/plain": [
       "(array([0, 1]), [Text(0, 0, '0'), Text(1, 0, '1')])"
      ]
     },
     "execution_count": 61,
     "metadata": {},
     "output_type": "execute_result"
    },
    {
     "data": {
      "image/png": "[encoded data removed]",
      "text/plain": [
       "<Figure size 432x288 with 1 Axes>"
      ]
     },
     "metadata": {
      "needs_background": "light"
     },
     "output_type": "display_data"
    }
   ],
   "source": [
    "# Count Plot (a.k.a. Bar Plot)\n",
    "sns.countplot(x='gender_new', data=df)\n",
    "# Rotate x-labels\n",
    "plt.xticks(rotation=-45)"
   ]
  },
  {
   "cell_type": "code",
   "execution_count": 92,
   "id": "71de92cf",
   "metadata": {},
   "outputs": [
    {
     "data": {
      "text/plain": [
       "<seaborn.axisgrid.PairGrid at 0x1f7970af7f0>"
      ]
     },
     "execution_count": 92,
     "metadata": {},
     "output_type": "execute_result"
    },
    {
     "data": {
      "image/png": "[encoded data removed]",
      "text/plain": [
       "<Figure size 540x540 with 12 Axes>"
      ]
     },
     "metadata": {},
     "output_type": "display_data"
    }
   ],
   "source": [
    "#Pair plot for fav_number, tweet_count, retweet_count\n",
    "sns.pairplot(df[[\"fav_number\", \"tweet_count\", \"retweet_count\"]])"
   ]
  },
  {
   "cell_type": "code",
   "execution_count": 64,
   "id": "3e26742f",
   "metadata": {},
   "outputs": [],
   "source": [
    "#input for generating correlation matrix\n",
    "correlation_matrix = df.corr()"
   ]
  },
  {
   "cell_type": "code",
   "execution_count": 65,
   "id": "50c605bc",
   "metadata": {},
   "outputs": [
    {
     "data": {
      "text/html": [
       "<div>\n",
       "<style scoped>\n",
       "    .dataframe tbody tr th:only-of-type {\n",
       "        vertical-align: middle;\n",
       "    }\n",
       "\n",
       "    .dataframe tbody tr th {\n",
       "        vertical-align: top;\n",
       "    }\n",
       "\n",
       "    .dataframe thead th {\n",
       "        text-align: right;\n",
       "    }\n",
       "</style>\n",
       "<table border=\"1\" class=\"dataframe\">\n",
       "  <thead>\n",
       "    <tr style=\"text-align: right;\">\n",
       "      <th></th>\n",
       "      <th>_unit_id</th>\n",
       "      <th>_golden</th>\n",
       "      <th>_trusted_judgments</th>\n",
       "      <th>gender:confidence</th>\n",
       "      <th>profile_yn:confidence</th>\n",
       "      <th>fav_number</th>\n",
       "      <th>retweet_count</th>\n",
       "      <th>tweet_count</th>\n",
       "      <th>tweet_id</th>\n",
       "      <th>gender_new</th>\n",
       "    </tr>\n",
       "  </thead>\n",
       "  <tbody>\n",
       "    <tr>\n",
       "      <th>_unit_id</th>\n",
       "      <td>1.000000</td>\n",
       "      <td>0.208055</td>\n",
       "      <td>0.207651</td>\n",
       "      <td>0.007918</td>\n",
       "      <td>0.015168</td>\n",
       "      <td>0.024878</td>\n",
       "      <td>-0.004337</td>\n",
       "      <td>-0.024809</td>\n",
       "      <td>NaN</td>\n",
       "      <td>-0.069478</td>\n",
       "    </tr>\n",
       "    <tr>\n",
       "      <th>_golden</th>\n",
       "      <td>0.208055</td>\n",
       "      <td>1.000000</td>\n",
       "      <td>0.998592</td>\n",
       "      <td>0.008818</td>\n",
       "      <td>0.005592</td>\n",
       "      <td>0.003794</td>\n",
       "      <td>-0.000744</td>\n",
       "      <td>-0.009669</td>\n",
       "      <td>NaN</td>\n",
       "      <td>-0.001791</td>\n",
       "    </tr>\n",
       "    <tr>\n",
       "      <th>_trusted_judgments</th>\n",
       "      <td>0.207651</td>\n",
       "      <td>0.998592</td>\n",
       "      <td>1.000000</td>\n",
       "      <td>0.009550</td>\n",
       "      <td>0.005543</td>\n",
       "      <td>0.003851</td>\n",
       "      <td>-0.000765</td>\n",
       "      <td>-0.009703</td>\n",
       "      <td>NaN</td>\n",
       "      <td>-0.001936</td>\n",
       "    </tr>\n",
       "    <tr>\n",
       "      <th>gender:confidence</th>\n",
       "      <td>0.007918</td>\n",
       "      <td>0.008818</td>\n",
       "      <td>0.009550</td>\n",
       "      <td>1.000000</td>\n",
       "      <td>0.313628</td>\n",
       "      <td>-0.030889</td>\n",
       "      <td>-0.004947</td>\n",
       "      <td>-0.013558</td>\n",
       "      <td>NaN</td>\n",
       "      <td>-0.049717</td>\n",
       "    </tr>\n",
       "    <tr>\n",
       "      <th>profile_yn:confidence</th>\n",
       "      <td>0.015168</td>\n",
       "      <td>0.005592</td>\n",
       "      <td>0.005543</td>\n",
       "      <td>0.313628</td>\n",
       "      <td>1.000000</td>\n",
       "      <td>-0.003256</td>\n",
       "      <td>0.001376</td>\n",
       "      <td>-0.012665</td>\n",
       "      <td>NaN</td>\n",
       "      <td>0.012797</td>\n",
       "    </tr>\n",
       "    <tr>\n",
       "      <th>fav_number</th>\n",
       "      <td>0.024878</td>\n",
       "      <td>0.003794</td>\n",
       "      <td>0.003851</td>\n",
       "      <td>-0.030889</td>\n",
       "      <td>-0.003256</td>\n",
       "      <td>1.000000</td>\n",
       "      <td>0.008274</td>\n",
       "      <td>0.066733</td>\n",
       "      <td>NaN</td>\n",
       "      <td>-0.117836</td>\n",
       "    </tr>\n",
       "    <tr>\n",
       "      <th>retweet_count</th>\n",
       "      <td>-0.004337</td>\n",
       "      <td>-0.000744</td>\n",
       "      <td>-0.000765</td>\n",
       "      <td>-0.004947</td>\n",
       "      <td>0.001376</td>\n",
       "      <td>0.008274</td>\n",
       "      <td>1.000000</td>\n",
       "      <td>-0.001263</td>\n",
       "      <td>NaN</td>\n",
       "      <td>0.008994</td>\n",
       "    </tr>\n",
       "    <tr>\n",
       "      <th>tweet_count</th>\n",
       "      <td>-0.024809</td>\n",
       "      <td>-0.009669</td>\n",
       "      <td>-0.009703</td>\n",
       "      <td>-0.013558</td>\n",
       "      <td>-0.012665</td>\n",
       "      <td>0.066733</td>\n",
       "      <td>-0.001263</td>\n",
       "      <td>1.000000</td>\n",
       "      <td>NaN</td>\n",
       "      <td>0.117882</td>\n",
       "    </tr>\n",
       "    <tr>\n",
       "      <th>tweet_id</th>\n",
       "      <td>NaN</td>\n",
       "      <td>NaN</td>\n",
       "      <td>NaN</td>\n",
       "      <td>NaN</td>\n",
       "      <td>NaN</td>\n",
       "      <td>NaN</td>\n",
       "      <td>NaN</td>\n",
       "      <td>NaN</td>\n",
       "      <td>NaN</td>\n",
       "      <td>NaN</td>\n",
       "    </tr>\n",
       "    <tr>\n",
       "      <th>gender_new</th>\n",
       "      <td>-0.069478</td>\n",
       "      <td>-0.001791</td>\n",
       "      <td>-0.001936</td>\n",
       "      <td>-0.049717</td>\n",
       "      <td>0.012797</td>\n",
       "      <td>-0.117836</td>\n",
       "      <td>0.008994</td>\n",
       "      <td>0.117882</td>\n",
       "      <td>NaN</td>\n",
       "      <td>1.000000</td>\n",
       "    </tr>\n",
       "  </tbody>\n",
       "</table>\n",
       "</div>"
      ],
      "text/plain": [
       "                       _unit_id   _golden  _trusted_judgments  \\\n",
       "_unit_id               1.000000  0.208055            0.207651   \n",
       "_golden                0.208055  1.000000            0.998592   \n",
       "_trusted_judgments     0.207651  0.998592            1.000000   \n",
       "gender:confidence      0.007918  0.008818            0.009550   \n",
       "profile_yn:confidence  0.015168  0.005592            0.005543   \n",
       "fav_number             0.024878  0.003794            0.003851   \n",
       "retweet_count         -0.004337 -0.000744           -0.000765   \n",
       "tweet_count           -0.024809 -0.009669           -0.009703   \n",
       "tweet_id                    NaN       NaN                 NaN   \n",
       "gender_new            -0.069478 -0.001791           -0.001936   \n",
       "\n",
       "                       gender:confidence  profile_yn:confidence  fav_number  \\\n",
       "_unit_id                        0.007918               0.015168    0.024878   \n",
       "_golden                         0.008818               0.005592    0.003794   \n",
       "_trusted_judgments              0.009550               0.005543    0.003851   \n",
       "gender:confidence               1.000000               0.313628   -0.030889   \n",
       "profile_yn:confidence           0.313628               1.000000   -0.003256   \n",
       "fav_number                     -0.030889              -0.003256    1.000000   \n",
       "retweet_count                  -0.004947               0.001376    0.008274   \n",
       "tweet_count                    -0.013558              -0.012665    0.066733   \n",
       "tweet_id                             NaN                    NaN         NaN   \n",
       "gender_new                     -0.049717               0.012797   -0.117836   \n",
       "\n",
       "                       retweet_count  tweet_count  tweet_id  gender_new  \n",
       "_unit_id                   -0.004337    -0.024809       NaN   -0.069478  \n",
       "_golden                    -0.000744    -0.009669       NaN   -0.001791  \n",
       "_trusted_judgments         -0.000765    -0.009703       NaN   -0.001936  \n",
       "gender:confidence          -0.004947    -0.013558       NaN   -0.049717  \n",
       "profile_yn:confidence       0.001376    -0.012665       NaN    0.012797  \n",
       "fav_number                  0.008274     0.066733       NaN   -0.117836  \n",
       "retweet_count               1.000000    -0.001263       NaN    0.008994  \n",
       "tweet_count                -0.001263     1.000000       NaN    0.117882  \n",
       "tweet_id                         NaN          NaN       NaN         NaN  \n",
       "gender_new                  0.008994     0.117882       NaN    1.000000  "
      ]
     },
     "execution_count": 65,
     "metadata": {},
     "output_type": "execute_result"
    }
   ],
   "source": [
    "correlation_matrix"
   ]
  },
  {
   "cell_type": "code",
   "execution_count": 66,
   "id": "efc34df5",
   "metadata": {},
   "outputs": [
    {
     "data": {
      "text/plain": [
       "(10, 10)"
      ]
     },
     "execution_count": 66,
     "metadata": {},
     "output_type": "execute_result"
    }
   ],
   "source": [
    "correlation_matrix.shape"
   ]
  },
  {
   "cell_type": "code",
   "execution_count": 67,
   "id": "bbe1e7f4",
   "metadata": {},
   "outputs": [
    {
     "data": {
      "text/plain": [
       "<AxesSubplot:>"
      ]
     },
     "execution_count": 67,
     "metadata": {},
     "output_type": "execute_result"
    },
    {
     "data": {
      "image/png": "[encoded data removed]",
      "text/plain": [
       "<Figure size 432x288 with 2 Axes>"
      ]
     },
     "metadata": {
      "needs_background": "light"
     },
     "output_type": "display_data"
    }
   ],
   "source": [
    " #heatmap for corellation matrix\n",
    "    sns.heatmap(correlation_matrix)"
   ]
  },
  {
   "cell_type": "code",
   "execution_count": 93,
   "id": "d326a5e9",
   "metadata": {},
   "outputs": [
    {
     "data": {
      "text/plain": [
       "<seaborn.axisgrid.PairGrid at 0x1f79a3cc460>"
      ]
     },
     "execution_count": 93,
     "metadata": {},
     "output_type": "execute_result"
    },
    {
     "data": {
      "image/png": "[encoded data removed]",
      "text/plain": [
       "<Figure size 540x540 with 9 Axes>"
      ]
     },
     "metadata": {},
     "output_type": "display_data"
    }
   ],
   "source": [
    "#Pairgrid for fav_number, tweet_count and retweet_count\n",
    "g = sns.PairGrid(df[[\"fav_number\", \"tweet_count\", \"retweet_count\"]])\n",
    "g.map(sns.scatterplot)"
   ]
  },
  {
   "cell_type": "code",
   "execution_count": 85,
   "id": "a1615ff0",
   "metadata": {},
   "outputs": [
    {
     "data": {
      "text/plain": [
       "<AxesSubplot:xlabel='fav_number', ylabel='tweet_count'>"
      ]
     },
     "execution_count": 85,
     "metadata": {},
     "output_type": "execute_result"
    },
    {
     "data": {
      "image/png": "[encoded data removed]",
      "text/plain": [
       "<Figure size 432x288 with 1 Axes>"
      ]
     },
     "metadata": {},
     "output_type": "display_data"
    }
   ],
   "source": [
    "#Violin plot for fav_number and tweet_count\n",
    "sns.set_style('whitegrid')\n",
    "# Violin plot\n",
    "sns.violinplot(x='fav_number', y='tweet_count', data=df)"
   ]
  },
  {
   "cell_type": "code",
   "execution_count": 86,
   "id": "2451083a",
   "metadata": {},
   "outputs": [
    {
     "data": {
      "text/plain": [
       "<AxesSubplot:xlabel='fav_number', ylabel='gender_new'>"
      ]
     },
     "execution_count": 86,
     "metadata": {},
     "output_type": "execute_result"
    },
    {
     "data": {
      "image/png": "[encoded data removed]",
      "text/plain": [
       "<Figure size 432x288 with 1 Axes>"
      ]
     },
     "metadata": {},
     "output_type": "display_data"
    }
   ],
   "source": [
    "#Violin plot for fav_numbner and gender_new\n",
    "sns.set_style('whitegrid')\n",
    "# Violin plot\n",
    "sns.violinplot(x='fav_number', y='gender_new', data=df)"
   ]
  },
  {
   "cell_type": "code",
   "execution_count": 71,
   "id": "6cf58019",
   "metadata": {},
   "outputs": [
    {
     "name": "stderr",
     "output_type": "stream",
     "text": [
      "C:\\Users\\vicky\\anaconda3\\lib\\site-packages\\seaborn\\distributions.py:2619: FutureWarning: `distplot` is a deprecated function and will be removed in a future version. Please adapt your code to use either `displot` (a figure-level function with similar flexibility) or `histplot` (an axes-level function for histograms).\n",
      "  warnings.warn(msg, FutureWarning)\n"
     ]
    },
    {
     "data": {
      "text/plain": [
       "<AxesSubplot:xlabel='fav_number', ylabel='Density'>"
      ]
     },
     "execution_count": 71,
     "metadata": {},
     "output_type": "execute_result"
    },
    {
     "data": {
      "image/png": "[encoded data removed]",
      "text/plain": [
       "<Figure size 432x288 with 1 Axes>"
      ]
     },
     "metadata": {},
     "output_type": "display_data"
    }
   ],
   "source": [
    "#distplot for fav_number\n",
    "sns.distplot(df.fav_number)"
   ]
  },
  {
   "cell_type": "code",
   "execution_count": 72,
   "id": "e09a7ecb",
   "metadata": {},
   "outputs": [
    {
     "name": "stderr",
     "output_type": "stream",
     "text": [
      "C:\\Users\\vicky\\anaconda3\\lib\\site-packages\\seaborn\\distributions.py:2619: FutureWarning: `distplot` is a deprecated function and will be removed in a future version. Please adapt your code to use either `displot` (a figure-level function with similar flexibility) or `histplot` (an axes-level function for histograms).\n",
      "  warnings.warn(msg, FutureWarning)\n"
     ]
    },
    {
     "data": {
      "text/plain": [
       "<AxesSubplot:xlabel='tweet_count', ylabel='Density'>"
      ]
     },
     "execution_count": 72,
     "metadata": {},
     "output_type": "execute_result"
    },
    {
     "data": {
      "image/png": "[encoded data removed]",
      "text/plain": [
       "<Figure size 432x288 with 1 Axes>"
      ]
     },
     "metadata": {},
     "output_type": "display_data"
    }
   ],
   "source": [
    "#distplot for tweet_count\n",
    "sns.distplot(df.tweet_count)"
   ]
  },
  {
   "cell_type": "code",
   "execution_count": 73,
   "id": "00baf191",
   "metadata": {},
   "outputs": [
    {
     "name": "stderr",
     "output_type": "stream",
     "text": [
      "C:\\Users\\vicky\\anaconda3\\lib\\site-packages\\seaborn\\distributions.py:2619: FutureWarning: `distplot` is a deprecated function and will be removed in a future version. Please adapt your code to use either `displot` (a figure-level function with similar flexibility) or `histplot` (an axes-level function for histograms).\n",
      "  warnings.warn(msg, FutureWarning)\n"
     ]
    },
    {
     "data": {
      "text/plain": [
       "<AxesSubplot:xlabel='retweet_count', ylabel='Density'>"
      ]
     },
     "execution_count": 73,
     "metadata": {},
     "output_type": "execute_result"
    },
    {
     "data": {
      "image/png": "[encoded data removed]",
      "text/plain": [
       "<Figure size 432x288 with 1 Axes>"
      ]
     },
     "metadata": {},
     "output_type": "display_data"
    }
   ],
   "source": [
    "#distplot for retweet count\n",
    "sns.distplot(df.retweet_count)"
   ]
  },
  {
   "cell_type": "code",
   "execution_count": 80,
   "id": "edb5fb83",
   "metadata": {},
   "outputs": [
    {
     "data": {
      "text/plain": [
       "<seaborn.axisgrid.JointGrid at 0x1f71dadb400>"
      ]
     },
     "execution_count": 80,
     "metadata": {},
     "output_type": "execute_result"
    },
    {
     "data": {
      "image/png": "[encoded data removed]",
      "text/plain": [
       "<Figure size 432x432 with 3 Axes>"
      ]
     },
     "metadata": {},
     "output_type": "display_data"
    }
   ],
   "source": [
    "#Jointplot for tweet_count and fgav_number\n",
    "sns.jointplot(x='tweet_count', y='fav_number', data=df)"
   ]
  },
  {
   "cell_type": "code",
   "execution_count": 81,
   "id": "2d0c448a",
   "metadata": {},
   "outputs": [
    {
     "data": {
      "text/plain": [
       "<seaborn.axisgrid.JointGrid at 0x1f71e6a4640>"
      ]
     },
     "execution_count": 81,
     "metadata": {},
     "output_type": "execute_result"
    },
    {
     "data": {
      "image/png": "[encoded data removed]",
      "text/plain": [
       "<Figure size 432x432 with 3 Axes>"
      ]
     },
     "metadata": {},
     "output_type": "display_data"
    }
   ],
   "source": [
    "#Joint plot for tweet_count and gender_new\n",
    "sns.jointplot(x='tweet_count', y='gender_new', data=df)"
   ]
  },
  {
   "cell_type": "code",
   "execution_count": 94,
   "id": "f8f31c7f",
   "metadata": {},
   "outputs": [
    {
     "data": {
      "text/plain": [
       "<seaborn.axisgrid.JointGrid at 0x1f7a56033a0>"
      ]
     },
     "execution_count": 94,
     "metadata": {},
     "output_type": "execute_result"
    },
    {
     "data": {
      "image/png": "[encoded data removed]",
      "text/plain": [
       "<Figure size 432x432 with 3 Axes>"
      ]
     },
     "metadata": {},
     "output_type": "display_data"
    }
   ],
   "source": [
    "#Joint plot fior tweet_count and retweet_count\n",
    "sns.jointplot(x='tweet_count', y='retweet_count', data=df)"
   ]
  },
  {
   "cell_type": "code",
   "execution_count": null,
   "id": "f73aba3a",
   "metadata": {},
   "outputs": [],
   "source": []
  }
 ],
 "metadata": {
  "kernelspec": {
   "display_name": "Python 3 (ipykernel)",
   "language": "python",
   "name": "python3"
  },
  "language_info": {
   "codemirror_mode": {
    "name": "ipython",
    "version": 3
   },
   "file_extension": ".py",
   "mimetype": "text/x-python",
   "name": "python",
   "nbconvert_exporter": "python",
   "pygments_lexer": "ipython3",
   "version": "3.8.9"
  }
 },
 "nbformat": 4,
 "nbformat_minor": 5
}
